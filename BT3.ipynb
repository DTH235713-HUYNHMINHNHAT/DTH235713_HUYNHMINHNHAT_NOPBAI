{
  "nbformat": 4,
  "nbformat_minor": 0,
  "metadata": {
    "colab": {
      "provenance": [],
      "authorship_tag": "ABX9TyNQbqnyM1eyuUH9Rqb5H9MU",
      "include_colab_link": true
    },
    "kernelspec": {
      "name": "python3",
      "display_name": "Python 3"
    },
    "language_info": {
      "name": "python"
    }
  },
  "cells": [
    {
      "cell_type": "markdown",
      "metadata": {
        "id": "view-in-github",
        "colab_type": "text"
      },
      "source": [
        "<a href=\"https://colab.research.google.com/github/DTH235713-HUYNHMINHNHAT/DTH235713_HUYNHMINHNHAT_NOPBAI/blob/main/BT3.ipynb\" target=\"_parent\"><img src=\"https://colab.research.google.com/assets/colab-badge.svg\" alt=\"Open In Colab\"/></a>"
      ]
    },
    {
      "cell_type": "code",
      "execution_count": 1,
      "metadata": {
        "colab": {
          "base_uri": "https://localhost:8080/"
        },
        "id": "F_dJOr6fQO14",
        "outputId": "28268491-cada-4fa2-e37f-37ece5ec2e59"
      },
      "outputs": [
        {
          "output_type": "stream",
          "name": "stdout",
          "text": [
            "Albert đã từng nói: Một người không bao giờ mắc sai lầm không bao giờ thửu bất kì điều gì mới \n"
          ]
        }
      ],
      "source": [
        "print(\"Albert đã từng nói: Một người không bao giờ mắc sai lầm không bao giờ thửu bất kì điều gì mới \")"
      ]
    },
    {
      "cell_type": "code",
      "source": [
        "print(\"Viết mã chương trình  \")"
      ],
      "metadata": {
        "colab": {
          "base_uri": "https://localhost:8080/"
        },
        "id": "bw41ivzIQ7Cp",
        "outputId": "39beb755-af61-4f17-8af5-c90df6751f42"
      },
      "execution_count": 2,
      "outputs": [
        {
          "output_type": "stream",
          "name": "stdout",
          "text": [
            "Viết mã chương trình  \n"
          ]
        }
      ]
    },
    {
      "cell_type": "code",
      "source": [
        "# module1.py\n",
        "module1_question = 'What is the meaning of Life, the Universe, and Everything? '\n",
        "module1_answer =42\n",
        "\n",
        "# module2.py\n",
        "module2_question = 'What is your quest? '\n",
        "module2_answer ='To seek the holy grail.'\n",
        "\n",
        "print(module1_question)\n",
        "print(module1_answer)\n",
        "print(module2_question)\n",
        "print(module2_answer)"
      ],
      "metadata": {
        "colab": {
          "base_uri": "https://localhost:8080/"
        },
        "id": "TFRt9Gy4REiV",
        "outputId": "6a0e1705-f158-4409-cb28-b618fddc2140"
      },
      "execution_count": 5,
      "outputs": [
        {
          "output_type": "stream",
          "name": "stdout",
          "text": [
            "What is the meaning of Life, the Universe, and Everything? \n",
            "42\n",
            "What is your quest? \n",
            "To seek the holy grail.\n"
          ]
        }
      ]
    },
    {
      "cell_type": "code",
      "source": [
        "print(\"Chao cac ban!\")"
      ],
      "metadata": {
        "colab": {
          "base_uri": "https://localhost:8080/"
        },
        "id": "qyrj2WbATy8l",
        "outputId": "5c458309-e37e-4be5-f3d0-9e87f734b743"
      },
      "execution_count": 7,
      "outputs": [
        {
          "output_type": "stream",
          "name": "stdout",
          "text": [
            "Chao cac ban!\n"
          ]
        }
      ]
    },
    {
      "cell_type": "code",
      "source": [
        "print(\"Huỳnh Minh Nhật\")"
      ],
      "metadata": {
        "colab": {
          "base_uri": "https://localhost:8080/"
        },
        "id": "qjF7lxuBUUHw",
        "outputId": "e2e86797-b5da-4094-8401-9c010d4c405d"
      },
      "execution_count": 8,
      "outputs": [
        {
          "output_type": "stream",
          "name": "stdout",
          "text": [
            "Huỳnh Minh Nhật\n"
          ]
        }
      ]
    }
  ]
}